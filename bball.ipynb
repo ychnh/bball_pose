{
 "cells": [
  {
   "cell_type": "code",
   "execution_count": 1,
   "metadata": {},
   "outputs": [
    {
     "name": "stdout",
     "output_type": "stream",
     "text": [
      "tensor([ 8, 10])\n"
     ]
    }
   ],
   "source": [
    "from dataset import sphere_dataset\n",
    "from matplotlib.pyplot import imshow\n",
    "import util\n",
    "\n",
    "dataset = sphere_dataset('data', 10)\n",
    "d = dataset[15]\n",
    "util.imshow(d['x2'].permute(1,2,0), (1,1))\n",
    "util.imshow(d['x1'].permute(1,2,0), (1,1))\n",
    "util.imshow(d['y'])\n",
    "print(d['yidx'])"
   ]
  },
  {
   "cell_type": "code",
   "execution_count": 3,
   "metadata": {},
   "outputs": [
    {
     "data": {
      "text/plain": [
       "(tensor(0.), tensor(0.2734))"
      ]
     },
     "execution_count": 3,
     "metadata": {},
     "output_type": "execute_result"
    }
   ],
   "source": [
    "import torch\n",
    "d = dataset[15]\n",
    "y = d['y'].unsqueeze(0)\n",
    "yT = torch.transpose(y,1,2)\n",
    "\n",
    "d = dataset[15]\n",
    "y2 = d['y'].unsqueeze(0)\n",
    "y2T = torch.transpose(y2,1,2)\n",
    "\n",
    "#util.imshow(y.squeeze(0))\n",
    "#util.imshow(y2.squeeze(0))\n",
    "(y[0,0] * y2[0,0].T).sum(), (y[0,0]**2).sum()"
   ]
  },
  {
   "cell_type": "code",
   "execution_count": 4,
   "metadata": {},
   "outputs": [
    {
     "name": "stdout",
     "output_type": "stream",
     "text": [
      "torch.Size([3, 21]) torch.Size([21, 3])\n"
     ]
    },
    {
     "data": {
      "text/plain": [
       "tensor([[0.2734, 0.2734, 0.2734],\n",
       "        [0.2734, 0.2734, 0.2734],\n",
       "        [0.2734, 0.2734, 0.2734]])"
      ]
     },
     "execution_count": 4,
     "metadata": {},
     "output_type": "execute_result"
    }
   ],
   "source": [
    "x = y[0,0]\n",
    "X = torch.stack( [x,x,x])\n",
    "print(X.shape, X.T.shape)\n",
    "torch.matmul(X,X.T)"
   ]
  },
  {
   "cell_type": "code",
   "execution_count": 100,
   "metadata": {},
   "outputs": [
    {
     "data": {
      "text/plain": [
       "1"
      ]
     },
     "execution_count": 100,
     "metadata": {},
     "output_type": "execute_result"
    }
   ],
   "source": [
    "from spose_model import spose_model\n",
    "import torch\n",
    "\n",
    "model = spose_model()\n",
    "model.load_state_dict( torch.load('model24.pth') )\n",
    "model = model.cuda()\n",
    "model.eval()\n",
    "1"
   ]
  },
  {
   "cell_type": "code",
   "execution_count": 160,
   "metadata": {},
   "outputs": [
    {
     "name": "stdout",
     "output_type": "stream",
     "text": [
      "tensor([20, 18])\n",
      "19 8\n"
     ]
    },
    {
     "data": {
      "image/png": "[encoded data removed]",
      "text/plain": [
       "<Figure size 720x720 with 1 Axes>"
      ]
     },
     "metadata": {
      "needs_background": "light"
     },
     "output_type": "display_data"
    },
    {
     "data": {
      "image/png": "[encoded data removed]",
      "text/plain": [
       "<Figure size 720x720 with 1 Axes>"
      ]
     },
     "metadata": {
      "needs_background": "light"
     },
     "output_type": "display_data"
    }
   ],
   "source": [
    "from random import randrange\n",
    "i = randrange(len(dataset))\n",
    "d = dataset[i]\n",
    "print(d['yidx'] )\n",
    "A,B = d['x1'].unsqueeze(0).cuda(), d['x2'].unsqueeze(0).cuda()\n",
    "py = model(A,B)\n",
    "util.imshow(py.squeeze(0).detach().cpu())\n",
    "util.imshow(d['y'])\n",
    "print(torch.argmax(py.squeeze(0)[0:1]).item(), torch.argmax(py.squeeze(0)[1:2]).item() )"
   ]
  },
  {
   "cell_type": "code",
   "execution_count": 52,
   "metadata": {},
   "outputs": [
    {
     "data": {
      "text/plain": [
       "tensor(0.0267, device='cuda:0', grad_fn=<AddBackward0>)"
      ]
     },
     "execution_count": 52,
     "metadata": {},
     "output_type": "execute_result"
    }
   ],
   "source": [
    "from torch import diag, matmul\n",
    "def F(a,b):\n",
    "    return diag( matmul(a,b.T) ).sum()\n",
    "def loss(py,y):\n",
    "    py1,y1 = py[:, 0], y[:, 0]\n",
    "    py2,y2 = py[:, 1], y[:, 1]\n",
    "    #l1 = torch.bmm(py1,y1).sum() + torch.bmm(py1,py1)\n",
    "    #l2 = torch.bmm(py2,y2).sum() + torch.bmm(py2,py2)\n",
    "    l1 = -F(py1,y1) + F(py1,py1)\n",
    "    l2 = -F(py2,y2) + F(py2,py2)\n",
    "    return l1+l2\n",
    "\n",
    "A = py\n",
    "B = d['y'].unsqueeze(0).cuda()\n",
    "loss(A,B)\n"
   ]
  },
  {
   "cell_type": "code",
   "execution_count": 13,
   "metadata": {},
   "outputs": [
    {
     "data": {
      "text/plain": [
       "tensor(0.)"
      ]
     },
     "execution_count": 13,
     "metadata": {},
     "output_type": "execute_result"
    }
   ],
   "source": [
    "d['x1'].min()"
   ]
  },
  {
   "cell_type": "code",
   "execution_count": 38,
   "metadata": {},
   "outputs": [
    {
     "data": {
      "text/plain": [
       "tensor(15, device='cuda:0')"
      ]
     },
     "execution_count": 38,
     "metadata": {},
     "output_type": "execute_result"
    }
   ],
   "source": [
    "torch.argmax(py.squeeze(0)[1:2] )"
   ]
  },
  {
   "cell_type": "code",
   "execution_count": 12,
   "metadata": {},
   "outputs": [],
   "source": [
    "def imshw(x):\n",
    "    imshow(x)"
   ]
  },
  {
   "cell_type": "code",
   "execution_count": 57,
   "metadata": {},
   "outputs": [
    {
     "data": {
      "text/plain": [
       "tensor(2.0000)"
      ]
     },
     "execution_count": 57,
     "metadata": {},
     "output_type": "execute_result"
    }
   ],
   "source": [
    "lyr(A)[0,:].sum()"
   ]
  },
  {
   "cell_type": "code",
   "execution_count": 5,
   "metadata": {},
   "outputs": [
    {
     "data": {
      "text/plain": [
       "[10, 48]"
      ]
     },
     "execution_count": 5,
     "metadata": {},
     "output_type": "execute_result"
    }
   ],
   "source": [
    "d['yidx']"
   ]
  },
  {
   "cell_type": "code",
   "execution_count": null,
   "metadata": {},
   "outputs": [],
   "source": []
  }
 ],
 "metadata": {
  "kernelspec": {
   "display_name": "Python 3",
   "language": "python",
   "name": "python3"
  },
  "language_info": {
   "codemirror_mode": {
    "name": "ipython",
    "version": 3
   },
   "file_extension": ".py",
   "mimetype": "text/x-python",
   "name": "python",
   "nbconvert_exporter": "python",
   "pygments_lexer": "ipython3",
   "version": "3.5.2"
  }
 },
 "nbformat": 4,
 "nbformat_minor": 4
}
